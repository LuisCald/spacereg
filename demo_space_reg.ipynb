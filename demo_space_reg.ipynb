{
 "cells": [
  {
   "cell_type": "markdown",
   "metadata": {},
   "source": [
    "# Introduction\n",
    "\n",
    "This notebook implements Conley standard errors for Python 3. \n",
    "\n",
    "Dataset:  \n",
    "Required packages: pandas, statsmodels  \n",
    "Date: 06-02-2020  \n",
    "Authors: Luis Calderon, Leander Heldring"
   ]
  },
  {
   "cell_type": "code",
   "execution_count": 1,
   "metadata": {},
   "outputs": [],
   "source": [
    "# import pandas\n",
    "import pandas as pd\n",
    "\n",
    "# import python code for Conley computations\n",
    "from space_reg import SpatialStandardErrorsComputer"
   ]
  },
  {
   "cell_type": "code",
   "execution_count": 5,
   "metadata": {},
   "outputs": [
    {
     "name": "stdout",
     "output_type": "stream",
     "text": [
      "C1, float32\n",
      "C2, float32\n",
      "dep, float32\n",
      "indep1, float32\n",
      "const, float32\n",
      "cutoff1, float32\n",
      "cutoff2, float32\n",
      "binarydep, float32\n",
      "poissondep, float32\n",
      "fe1, float32\n",
      "fe2, float32\n"
     ]
    }
   ],
   "source": [
    "# load data, for all models\n",
    "data = pd.read_stata(\"spatial_data.dta\")"
   ]
  },
  {
   "cell_type": "markdown",
   "metadata": {},
   "source": [
    "# Implementation\n",
    "To correct for spatially correlated residuals, the residuals have to be reweighted based on some economic distance between one another. This package offers spatial correction using a Bartless window estimator, assigning larger weights to residuals closer to one another. The implementation works for the following M-estimators: (1) OLS (2) Logit (3) Probit (4) Poisson (5) and Negative Binomial. \n",
    "\n",
    "The function that computes the correction is `compute_conley_standard_errors_all_models`. The function is a method on the class `SpatialStandardErrorsComputer`. To initialize the class, we require the *data (pd.DataFrame)*, *coordinates (list of str)*, and *cutoffs (list of str)*. The data must contain the (1) dependent variable (2) regressors (3) coordinates and (4) cutoffs. Once the class is initialized, we can call the function `compute_conley_standard_errors_all_models` by specifying a *model (str)*, *y (str)*, and *x (str or list of str)*. Below are the functions as well as examples exemplifying their use. We will initialize the class once and call the function for each model."
   ]
  },
  {
   "cell_type": "markdown",
   "metadata": {},
   "source": [
    "# OLS standard errors"
   ]
  },
  {
   "cell_type": "code",
   "execution_count": 3,
   "metadata": {},
   "outputs": [],
   "source": [
    "# Initialize class\n",
    "model = \"OLS\"\n",
    "coordinates = [\"C1\", \"C2\"]\n",
    "cutoffs = [\"cutoff1\", \"cutoff2\"]\n",
    "base = SpatialStandardErrorsComputer(data, coordinates, cutoffs)"
   ]
  },
  {
   "cell_type": "code",
   "execution_count": 4,
   "metadata": {},
   "outputs": [
    {
     "data": {
      "text/plain": [
       "indep1    0.214463\n",
       "const     1.331088\n",
       "Name: Conley s.e., dtype: float64"
      ]
     },
     "execution_count": 4,
     "metadata": {},
     "output_type": "execute_result"
    }
   ],
   "source": [
    "# Call function from our *base* class\n",
    "y = \"dep\"\n",
    "x =[ \"indep1\", \"const\"]\n",
    "ols_se = base.compute_conley_standard_errors_all_models(model, y, x)\n",
    "ols_se"
   ]
  },
  {
   "cell_type": "markdown",
   "metadata": {},
   "source": [
    "# Logit standard errors"
   ]
  },
  {
   "cell_type": "code",
   "execution_count": 5,
   "metadata": {},
   "outputs": [
    {
     "name": "stdout",
     "output_type": "stream",
     "text": [
      "Optimization terminated successfully.\n",
      "         Current function value: 0.651429\n",
      "         Iterations 5\n"
     ]
    },
    {
     "data": {
      "text/plain": [
       "indep1    0.053348\n",
       "const     0.279316\n",
       "Name: Conley s.e., dtype: float64"
      ]
     },
     "execution_count": 5,
     "metadata": {},
     "output_type": "execute_result"
    }
   ],
   "source": [
    "# Call function from our *base* class\n",
    "model = \"logit\"\n",
    "y = \"binary_dep\"\n",
    "x = [\"indep1\", \"const\"]\n",
    "logit_se = base.compute_conley_standard_errors_all_models(model, y, x)\n",
    "logit_se"
   ]
  },
  {
   "cell_type": "markdown",
   "metadata": {},
   "source": [
    "# Probit standard errors"
   ]
  },
  {
   "cell_type": "code",
   "execution_count": 6,
   "metadata": {},
   "outputs": [
    {
     "name": "stdout",
     "output_type": "stream",
     "text": [
      "Optimization terminated successfully.\n",
      "         Current function value: 0.650941\n",
      "         Iterations 4\n"
     ]
    },
    {
     "data": {
      "text/plain": [
       "indep1    0.019967\n",
       "const     0.106285\n",
       "Name: Conley s.e., dtype: float64"
      ]
     },
     "execution_count": 6,
     "metadata": {},
     "output_type": "execute_result"
    }
   ],
   "source": [
    "model = \"probit\"\n",
    "probit_se = base.compute_conley_standard_errors_all_models(model, y, x)\n",
    "probit_se"
   ]
  },
  {
   "cell_type": "markdown",
   "metadata": {},
   "source": [
    "# Poisson regression - standard errors"
   ]
  },
  {
   "cell_type": "code",
   "execution_count": 7,
   "metadata": {},
   "outputs": [
    {
     "name": "stdout",
     "output_type": "stream",
     "text": [
      "Optimization terminated successfully.\n",
      "         Current function value: 1.181768\n",
      "         Iterations 8\n"
     ]
    },
    {
     "data": {
      "text/plain": [
       "indep1    0.010192\n",
       "const     0.104021\n",
       "Name: Conley s.e., dtype: float64"
      ]
     },
     "execution_count": 7,
     "metadata": {},
     "output_type": "execute_result"
    }
   ],
   "source": [
    "model = \"poisson\"\n",
    "y = \"poisson_dep\"\n",
    "poisson_se = base.compute_conley_standard_errors_all_models(model, y, x)\n",
    "poisson_se"
   ]
  },
  {
   "cell_type": "markdown",
   "metadata": {},
   "source": [
    "# Negative binomial regression -standard errors"
   ]
  },
  {
   "cell_type": "code",
   "execution_count": 8,
   "metadata": {},
   "outputs": [
    {
     "name": "stdout",
     "output_type": "stream",
     "text": [
      "Warning: Desired error not necessarily achieved due to precision loss.\n",
      "         Current function value: 1.181768\n",
      "         Iterations: 27\n",
      "         Function evaluations: 56\n",
      "         Gradient evaluations: 46\n"
     ]
    },
    {
     "name": "stderr",
     "output_type": "stream",
     "text": [
      "/mnt/c/Users/lahel/Dropbox/Professional/Research/Code/venvs/research/lib/python3.6/site-packages/statsmodels/base/model.py:508: ConvergenceWarning: Maximum Likelihood optimization failed to converge. Check mle_retvals\n",
      "  \"Check mle_retvals\", ConvergenceWarning)\n"
     ]
    },
    {
     "data": {
      "text/plain": [
       "indep1    0.010192\n",
       "const     0.104021\n",
       "Name: Conley s.e., dtype: float64"
      ]
     },
     "execution_count": 8,
     "metadata": {},
     "output_type": "execute_result"
    }
   ],
   "source": [
    "model = \"nb\"\n",
    "y = \"poisson_dep\"\n",
    "nb_se = base.compute_conley_standard_errors_all_models(model, y, x)\n",
    "nb_se"
   ]
  },
  {
   "cell_type": "code",
   "execution_count": null,
   "metadata": {},
   "outputs": [],
   "source": []
  }
 ],
 "metadata": {
  "kernelspec": {
   "display_name": "Python 3",
   "language": "python",
   "name": "python3"
  },
  "language_info": {
   "codemirror_mode": {
    "name": "ipython",
    "version": 3
   },
   "file_extension": ".py",
   "mimetype": "text/x-python",
   "name": "python",
   "nbconvert_exporter": "python",
   "pygments_lexer": "ipython3",
   "version": "3.7.6"
  }
 },
 "nbformat": 4,
 "nbformat_minor": 2
}
